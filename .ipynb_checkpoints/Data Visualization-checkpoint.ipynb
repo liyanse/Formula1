{
 "cells": [
  {
   "cell_type": "code",
   "execution_count": 3,
   "id": "445d1e6c",
   "metadata": {},
   "outputs": [],
   "source": [
    "#import all the packages and set plots to be embedded inline\n",
    "import pandas as pd\n",
    "import seaborn as sns\n",
    "import numpy as np\n",
    "import matplotlib.pyplot as plt\n",
    "\n",
    "%matplotlib inline"
   ]
  },
  {
   "cell_type": "code",
   "execution_count": 4,
   "id": "2da82fb2",
   "metadata": {},
   "outputs": [],
   "source": [
    "## Load the data and assign columns\n",
    "results = pd.read_csv('results.csv', header=None)\n",
    "races = pd.read_csv('races.csv', )\n",
    "drivers = pd.read_csv('drivers.csv')\n",
    "constructors = pd.read_csv('constructors.csv')"
   ]
  },
  {
   "cell_type": "code",
   "execution_count": null,
   "id": "de9f2356",
   "metadata": {},
   "outputs": [],
   "source": [
    "## Merge the datasets to one\n",
    "\n",
    "df = pd.merge(results, races[['raceId', 'year','name','round']], on = 'raceId', how = 'left') \n",
    "df = pd.merge(df, drivers[['driverId', 'driverRef','nationality']], on = 'driverId', how = 'left')\n",
    "df = pd.merge(df, constructors[['constructorId', 'name', 'nationality']], on = 'constructorId', how = 'left')"
   ]
  }
 ],
 "metadata": {
  "kernelspec": {
   "display_name": "Python 3 (ipykernel)",
   "language": "python",
   "name": "python3"
  },
  "language_info": {
   "codemirror_mode": {
    "name": "ipython",
    "version": 3
   },
   "file_extension": ".py",
   "mimetype": "text/x-python",
   "name": "python",
   "nbconvert_exporter": "python",
   "pygments_lexer": "ipython3",
   "version": "3.11.2"
  }
 },
 "nbformat": 4,
 "nbformat_minor": 5
}
